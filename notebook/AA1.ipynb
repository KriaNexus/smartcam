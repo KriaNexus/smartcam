{
 "cells": [
  {
   "cell_type": "code",
   "execution_count": 1,
   "metadata": {},
   "outputs": [],
   "source": [
    "import pydot"
   ]
  },
  {
   "cell_type": "code",
   "execution_count": 2,
   "metadata": {},
   "outputs": [],
   "source": [
    "import sys"
   ]
  },
  {
   "cell_type": "code",
   "execution_count": 3,
   "metadata": {},
   "outputs": [],
   "source": [
    "import gi"
   ]
  },
  {
   "cell_type": "code",
   "execution_count": 4,
   "metadata": {},
   "outputs": [],
   "source": [
    "gi.require_version('Gst', '1.0')"
   ]
  },
  {
   "cell_type": "code",
   "execution_count": 5,
   "metadata": {},
   "outputs": [],
   "source": [
    "gi.require_version(\"GstApp\", \"1.0\")"
   ]
  },
  {
   "cell_type": "code",
   "execution_count": 6,
   "metadata": {},
   "outputs": [],
   "source": [
    "gi.require_version('GstVideo', '1.0')"
   ]
  },
  {
   "cell_type": "code",
   "execution_count": 7,
   "metadata": {},
   "outputs": [],
   "source": [
    "gi.require_version('GstRtspServer', '1.0')\n",
    "gi.require_version('GIRepository', '2.0')"
   ]
  },
  {
   "cell_type": "code",
   "execution_count": 8,
   "metadata": {},
   "outputs": [],
   "source": [
    "from gi.repository import GObject, Gst, GstVideo, GstRtspServer, GLib, GIRepository"
   ]
  },
  {
   "cell_type": "code",
   "execution_count": 9,
   "metadata": {},
   "outputs": [
    {
     "data": {
      "text/plain": [
       "[]"
      ]
     },
     "execution_count": 9,
     "metadata": {},
     "output_type": "execute_result"
    }
   ],
   "source": [
    "Gst.init(None)"
   ]
  },
  {
   "cell_type": "code",
   "execution_count": 10,
   "metadata": {},
   "outputs": [],
   "source": [
    "mainloop = GLib.MainLoop()"
   ]
  },
  {
   "cell_type": "code",
   "execution_count": 11,
   "metadata": {},
   "outputs": [
    {
     "data": {
      "text/plain": [
       "1"
      ]
     },
     "execution_count": 11,
     "metadata": {},
     "output_type": "execute_result"
    }
   ],
   "source": [
    "server = GstRtspServer.RTSPServer.new()\n",
    "server.props.service = \"5000\"\n",
    "server.attach(None)"
   ]
  },
  {
   "cell_type": "code",
   "execution_count": 12,
   "metadata": {},
   "outputs": [],
   "source": [
    "mounts = server.get_mount_points()"
   ]
  },
  {
   "cell_type": "code",
   "execution_count": 13,
   "metadata": {},
   "outputs": [],
   "source": [
    "factory = GstRtspServer.RTSPMediaFactory()"
   ]
  },
  {
   "cell_type": "code",
   "execution_count": 14,
   "metadata": {},
   "outputs": [],
   "source": [
    "factory.set_launch('(mediasrcbin name=videosrc media-device=/dev/media1  v4l2src0::io-mode=dmbuf-import \\\n",
    "! video/x-raw, width=1920, height=1080, format=NV12, framerate=30/1  \\\n",
    "! tee name=t  ! queue ! ivas_xm2m kconfig=\"/home/root/somapp/kernel_xpp_pipeline.json\" \\\n",
    "! video/x-raw, width=640, height=360, format=BGR \\\n",
    "! queue ! ivas_xfilter kernels-config=\"/home/root/somapp/kernel_densebox_640_360.json\" \\\n",
    "! ima.sink_master ivas_xmetaaffixer name=ima ima.src_master ! fakesink \\\n",
    "t.  ! ima.sink_slave_0 ima.src_slave_0 ! queue \\\n",
    "! ivas_xfilter kernels-config=\"/home/root/somapp/kernel_boundingbox_facedetect.json\" \\\n",
    "! queue ! ivas_xroigen roi-type=1 roi-qp-delta=-10 roi-max-num=10   \\\n",
    "! queue ! omxh265enc qp-mode=auto num-slices=8 gop-length=60 periodicity-idr=270 control-rate=low-latency \\\n",
    "  gop-mode=low-delay-p gdr-mode=horizontal cpb-size=200 initial-delay=100  filler-data=false min-qp=15 \\\n",
    "  max-qp=40  b-frames=0  low-bandwidth=false  \\\n",
    "! video/x-h265, alignment=au \\\n",
    "! queue ! rtph265pay name=pay0 pt=96 )')\n",
    "\n",
    "factory.set_shared(True)"
   ]
  },
  {
   "cell_type": "code",
   "execution_count": 15,
   "metadata": {},
   "outputs": [],
   "source": [
    "mounts.add_factory(\"/test\", factory)"
   ]
  },
  {
   "cell_type": "code",
   "execution_count": 16,
   "metadata": {},
   "outputs": [
    {
     "name": "stdout",
     "output_type": "stream",
     "text": [
      "stream ready at rtsp://127.0.0.1:5000/test\n"
     ]
    }
   ],
   "source": [
    "print (\"stream ready at rtsp://127.0.0.1:{}/test\".format(server.props.service))"
   ]
  },
  {
   "cell_type": "code",
   "execution_count": 17,
   "metadata": {},
   "source": [
    "mainloop.run()"
   ]
  },
  {
   "cell_type": "code",
   "execution_count": null,
   "metadata": {},
   "outputs": [],
   "source": []
  }
 ],
 "metadata": {
  "kernelspec": {
   "display_name": "Python 3",
   "language": "python",
   "name": "python3"
  },
  "language_info": {
   "codemirror_mode": {
    "name": "ipython",
    "version": 3
   },
   "file_extension": ".py",
   "mimetype": "text/x-python",
   "name": "python",
   "nbconvert_exporter": "python",
   "pygments_lexer": "ipython3",
   "version": "3.7.6"
  }
 },
 "nbformat": 4,
 "nbformat_minor": 4
}
